{
  "nbformat": 4,
  "nbformat_minor": 0,
  "metadata": {
    "colab": {
      "provenance": [],
      "authorship_tag": "ABX9TyMKCZT8HedZpCGsGrHi5CLC",
      "include_colab_link": true
    },
    "kernelspec": {
      "name": "python3",
      "display_name": "Python 3"
    },
    "language_info": {
      "name": "python"
    }
  },
  "cells": [
    {
      "cell_type": "markdown",
      "metadata": {
        "id": "view-in-github",
        "colab_type": "text"
      },
      "source": [
        "<a href=\"https://colab.research.google.com/github/petrobenjamin/actividad-de-programacionn/blob/main/atividad.ipynb\" target=\"_parent\"><img src=\"https://colab.research.google.com/assets/colab-badge.svg\" alt=\"Open In Colab\"/></a>"
      ]
    },
    {
      "cell_type": "markdown",
      "source": [
        "Crea una clase que represente a un empleado de una compañía:\n",
        "\n",
        "* Define una clase llamada Employee\n",
        "\n",
        "* Define una variable de clase llamada new_id y asignale un valor de 1\n",
        "\n",
        "Cada instancia Employee necesitará su propio ID:\n",
        "\n",
        "* Define el método constructor init()\n",
        "\n",
        "* Dentro del constructor, define self.id y asignale el valor de la variable de clase new_id\n",
        "\n",
        "* Incrementa el valor de new_id en 1\n",
        "\n",
        "Crea una función para mostrar el id:\n",
        "\n",
        "* Dentro de la clase Employee, define un método say_id()\n",
        "\n",
        "* Dentro de say_id(), imprime el string \"My id is \", seguido del id de la instancia\n",
        "\n",
        "Crea dos empleados y haz que te digan su id:\n",
        "\n",
        "* Define la variable e1 y asignale una instancia de Employee\n",
        "\n",
        "* Define la variable e2 y asígnale una instancia de Employee\n",
        "\n",
        "* Haz que tanto el como e2 digan sus id"
      ],
      "metadata": {
        "id": "-iEJJtu4wz6_"
      }
    },
    {
      "cell_type": "code",
      "execution_count": 36,
      "metadata": {
        "colab": {
          "base_uri": "https://localhost:8080/"
        },
        "id": "VdM3WVTksu5l",
        "outputId": "dbe2f662-11ed-4dea-cb87-1caf8857f4cc"
      },
      "outputs": [
        {
          "output_type": "stream",
          "name": "stdout",
          "text": [
            "My id is 1\n",
            "My id is 2\n"
          ]
        }
      ],
      "source": [
        "class Employee:\n",
        "    new_id = 1\n",
        "\n",
        "    def __init__(self):\n",
        "        self.id = Employee.new_id\n",
        "        Employee.new_id += 1\n",
        "\n",
        "    def say_id(self):\n",
        "        print(\"My id is\", self.id)\n",
        "\n",
        "\n",
        "e1 = Employee()\n",
        "e2 = Employee()\n",
        "\n",
        "e1.say_id()\n",
        "e2.say_id()\n"
      ]
    },
    {
      "cell_type": "markdown",
      "source": [
        "Crea un tipo de empleado más específico: Admin\n",
        "\n",
        "* Crea una clase Admin que herede de la clase Employee\n",
        "\n",
        "* Dentro del cuerpo de la clase, inserta la sentencia pass\n",
        "\n",
        "* Prueba la implementación de la herencia\n",
        "\n",
        "* Define una variable e3 y asígnale una instancia de la clase Admin\n",
        "\n",
        "* Llama el método say_id() de la instancia Admin en e3"
      ],
      "metadata": {
        "id": "YHRxFtb3w3XO"
      }
    },
    {
      "cell_type": "code",
      "source": [
        "class Employee:\n",
        "    new_id = 1\n",
        "\n",
        "    def __init__(self):\n",
        "        self.id = Employee.new_id\n",
        "        Employee.new_id += 1\n",
        "\n",
        "    def say_id(self):\n",
        "        print(\"My id is\", self.id)\n",
        "\n",
        "class Admin(Employee):\n",
        "    pass\n",
        "\n",
        "\n",
        "e3 = Admin()\n",
        "\n",
        "\n",
        "e3.say_id()\n"
      ],
      "metadata": {
        "colab": {
          "base_uri": "https://localhost:8080/"
        },
        "id": "KRgiItQ0uAIl",
        "outputId": "55c3cf49-9992-4ed7-a495-6660e6209ad8"
      },
      "execution_count": 21,
      "outputs": [
        {
          "output_type": "stream",
          "name": "stdout",
          "text": [
            "My id is 1\n"
          ]
        }
      ]
    },
    {
      "cell_type": "markdown",
      "source": [
        "Dentro de la clase Admin:\n",
        "\n",
        "* Define un método say_id()-recuerda borrar la sentencia pass\n",
        "\n",
        "Dentro del método, imprime \"I am an Admin\"\n",
        "\n",
        "* Llama el método say id en e3"
      ],
      "metadata": {
        "id": "ZHil8ZlZw7T-"
      }
    },
    {
      "cell_type": "code",
      "source": [
        "class Employee:\n",
        "    new_id = 1\n",
        "\n",
        "    def __init__(self):\n",
        "        self.id = Employee.new_id\n",
        "        Employee.new_id += 1\n",
        "\n",
        "    def say_id(self):\n",
        "        print(\"My id is\", self.id)\n",
        "\n",
        "class Admin(Employee):\n",
        "    def say_id(self):\n",
        "        print(\"My id is\", self.id)\n",
        "        print(\"I am an Admin\")\n",
        "\n",
        "\n",
        "e3 = Admin()\n",
        "\n",
        "e3.say_id()\n"
      ],
      "metadata": {
        "colab": {
          "base_uri": "https://localhost:8080/"
        },
        "id": "Vbd5YYrpuJHU",
        "outputId": "195a77e8-b891-45c1-fa99-4ee953e59eea"
      },
      "execution_count": 22,
      "outputs": [
        {
          "output_type": "stream",
          "name": "stdout",
          "text": [
            "My id is 1\n",
            "I am an Admin\n"
          ]
        }
      ]
    },
    {
      "cell_type": "markdown",
      "source": [
        "Dentro del método say_id() de la clase Admin:\n",
        "\n",
        "* Agrega una linea que también llame el método say_id() de la clase Employee.\n",
        "\n",
        "* Llama el método say_id en e3. Ahora debe decir su ID e indicar que es un admin."
      ],
      "metadata": {
        "id": "qFju5Ug9xEe-"
      }
    },
    {
      "cell_type": "code",
      "source": [
        "class Employee:\n",
        "    new_id = 1\n",
        "\n",
        "    def __init__(self):\n",
        "        self.id = Employee.new_id\n",
        "        Employee.new_id += 1\n",
        "\n",
        "    def say_id(self):\n",
        "        print(\"My id is\", self.id)\n",
        "\n",
        "class Admin(Employee):\n",
        "    def say_id(self):\n",
        "        super().say_id()\n",
        "        print(\"I am an Admin\")\n",
        "\n",
        "\n",
        "e3 = Admin()\n",
        "\n",
        "e3.say_id()\n"
      ],
      "metadata": {
        "colab": {
          "base_uri": "https://localhost:8080/"
        },
        "id": "eUouoEOzuSK-",
        "outputId": "31e5953c-4370-4144-b58d-203ebd6ca737"
      },
      "execution_count": 23,
      "outputs": [
        {
          "output_type": "stream",
          "name": "stdout",
          "text": [
            "My id is 1\n",
            "I am an Admin\n"
          ]
        }
      ]
    },
    {
      "cell_type": "markdown",
      "source": [
        "Define una clase Manager que herede de la clase Admin\n",
        "\n",
        "Dentro de la clase Manager, define un método say_id() que indique que están a cargo\n",
        "\n",
        "Dentro del método say_id() de Manager, llama el método say_id() de la clase Admin\n",
        "\n",
        "* Define una variable e4 y asígnale una instancia de la clase Manager\n",
        "\n",
        "* Llama el método say_id() de la instancia en e4"
      ],
      "metadata": {
        "id": "ehbUBXXMxL9W"
      }
    },
    {
      "cell_type": "code",
      "source": [
        "class Employee:\n",
        "    new_id = 1\n",
        "\n",
        "    def __init__(self):\n",
        "        self.id = Employee.new_id\n",
        "        Employee.new_id += 1\n",
        "\n",
        "    def say_id(self):\n",
        "        print(\"My id is\", self.id)\n",
        "\n",
        "class Admin(Employee):\n",
        "    def say_id(self):\n",
        "        super().say_id()\n",
        "        print(\"I am an Admin\")\n",
        "\n",
        "class Manager(Admin):\n",
        "    def say_id(self):\n",
        "        super().say_id()\n",
        "        print(\"I am in charge\")\n",
        "\n",
        "\n",
        "e4 = Manager()\n",
        "\n",
        "\n",
        "e4.say_id()\n"
      ],
      "metadata": {
        "colab": {
          "base_uri": "https://localhost:8080/"
        },
        "id": "5nfbK46DuZ2G",
        "outputId": "49181b9d-0c1f-44fc-d302-5e86208af79f"
      },
      "execution_count": 24,
      "outputs": [
        {
          "output_type": "stream",
          "name": "stdout",
          "text": [
            "My id is 1\n",
            "I am an Admin\n",
            "I am in charge\n"
          ]
        }
      ]
    },
    {
      "cell_type": "markdown",
      "source": [
        "Los administradores de la compañía necesitan acceso al sitio web como consumidores. Esto significa que los admins deben ser también usuarios del sitio.\n",
        "\n",
        "Crea una clase User con los atributos username y role, además de un método say_user_info() que imprima el nombre y el rol del usuario.\n",
        "\n",
        "* Haz que la clase Admin herede de User y de Employee. Asegúrate que Employee aparezca listado primero en la definición de clase de Admin."
      ],
      "metadata": {
        "id": "aIptJLE_xPcl"
      }
    },
    {
      "cell_type": "code",
      "source": [
        "class User:\n",
        "    def __init__(self, username, role):\n",
        "        self.username = username\n",
        "        self.role = role\n",
        "\n",
        "    def say_user_info(self):\n",
        "        print(\"Username:\", self.username, \"- Role:\", self.role)\n",
        "\n",
        "\n",
        "class Employee(User):\n",
        "    new_id = 1\n",
        "\n",
        "    def __init__(self):\n",
        "        self.id = Employee.new_id\n",
        "        Employee.new_id += 1\n",
        "\n",
        "    def say_id(self):\n",
        "        print(\"My id is\", self.id)\n",
        "\n",
        "\n",
        "class Admin(Employee):\n",
        "    def __init__(self):\n",
        "        super().__init__()\n",
        "\n",
        "    def say_id(self):\n",
        "        super().say_id()\n",
        "\n",
        "\n",
        "admin = Admin()\n",
        "admin.username = \"admin_user\"\n",
        "admin.role = \"Admin\"\n",
        "admin.say_user_info()\n"
      ],
      "metadata": {
        "colab": {
          "base_uri": "https://localhost:8080/"
        },
        "id": "Qci-FsbOuhD1",
        "outputId": "0360f7a5-1691-4aa8-8b6c-d1fcef317253"
      },
      "execution_count": 25,
      "outputs": [
        {
          "output_type": "stream",
          "name": "stdout",
          "text": [
            "Username: admin_user - Role: Admin\n"
          ]
        }
      ]
    },
    {
      "cell_type": "markdown",
      "source": [
        "Dentro del constructor init() de la clase Admin:\n",
        "\n",
        "* Llama el método init() de la superclase Employee\n",
        "\n",
        "* Pasa el id de la clase Admin y el string \"Admin\" como argumentos del método init () de la superclase User. Tip: self.id\n",
        "\n",
        "* Confirma que los datos de usuario fueron colocados correctamente Ilamando el método say_user_info() usando la instancia e3 de Admin"
      ],
      "metadata": {
        "id": "gXh-8Vz0xSf2"
      }
    },
    {
      "cell_type": "code",
      "source": [
        "\n",
        "\n",
        "\n",
        "class Admin(Employee):\n",
        "    def __init__(self):\n",
        "        super().__init__()\n",
        "\n",
        "    def say_id(self):\n",
        "        super().say_id()\n",
        "\n",
        "admin = Admin()\n",
        "admin.username = \"admin_user\"\n",
        "admin.role = \"Admin\"\n",
        "admin.say_user_info()\n"
      ],
      "metadata": {
        "colab": {
          "base_uri": "https://localhost:8080/"
        },
        "id": "RcMUbb1IvA6e",
        "outputId": "1303dba5-f64b-4b75-f8bc-5f6a23ee1041"
      },
      "execution_count": 26,
      "outputs": [
        {
          "output_type": "stream",
          "name": "stdout",
          "text": [
            "Username: admin_user - Role: Admin\n"
          ]
        }
      ]
    },
    {
      "cell_type": "markdown",
      "source": [
        "Se requiere una reunión con al menos un empleado, un administrador y un manager,\n",
        "\n",
        "Define una variable meeting y asígnale una lista que contenga una instancia de cada clase: Employee(), Admin() y Manager()\n",
        "\n",
        "* Con los diferentes tipos de empleados en la reunión, haz que todos digan su id.\n",
        "\n",
        "Usando un ciclo, itera a través de la lista meeting\n",
        "\n",
        "Usando la variable definida en el ciclo, llama el método say_id() en cada instancia de la lista"
      ],
      "metadata": {
        "id": "8J1Z5SY2xWQG"
      }
    },
    {
      "cell_type": "code",
      "source": [
        "\n",
        "meeting = [Employee(), Admin(), Manager()]\n",
        "\n",
        "for employee in meeting:\n",
        "  employee.say_id()\n"
      ],
      "metadata": {
        "colab": {
          "base_uri": "https://localhost:8080/"
        },
        "id": "i-V3HmhUvGk2",
        "outputId": "8f211880-e48f-4b4c-ae2f-9e2ffed5a051"
      },
      "execution_count": 27,
      "outputs": [
        {
          "output_type": "stream",
          "name": "stdout",
          "text": [
            "My id is 3\n",
            "My id is 4\n",
            "My id is 5\n",
            "I am an Admin\n",
            "I am in charge\n"
          ]
        }
      ]
    },
    {
      "cell_type": "markdown",
      "source": [
        "Crea una clase Meeting con una lista attendees como atributo.\n",
        "\n",
        "* Agrega el método dunder add() que agrega instancias de Employee a la lista de attendees e imprime el ID de la instancia agregada indicando que fue añadida exitosamente.\n",
        "\n",
        "Agrega el método dunder len() que retorna el tamaño de la lista del atributo attendees."
      ],
      "metadata": {
        "id": "k2ZKCahSxZ31"
      }
    },
    {
      "cell_type": "code",
      "source": [
        "\n",
        "  def __init__(self):\n",
        "    self.attendees = []\n",
        "\n",
        "  def __add__(self, employee):\n",
        "    self.attendees.append(employee)\n",
        "    print(f\"{employee.id} added successfully\")\n",
        "\n",
        "  def __len__(self):\n",
        "    return len(self.attendees)\n",
        "\n",
        "meeting = Meeting()\n",
        "\n",
        "e1 = Employee()\n",
        "e2 = Admin()\n",
        "e3 = Manager()\n",
        "\n",
        "meeting + e1\n",
        "meeting + e2\n",
        "meeting + e3\n",
        "\n",
        "print(f\"There are {len(meeting)} attendees in the meeting\")\n"
      ],
      "metadata": {
        "colab": {
          "base_uri": "https://localhost:8080/"
        },
        "id": "yIEERX0hvK-g",
        "outputId": "cd322f92-9069-41d0-af40-99426af66299"
      },
      "execution_count": 28,
      "outputs": [
        {
          "output_type": "stream",
          "name": "stdout",
          "text": [
            "6 added successfully\n",
            "7 added successfully\n",
            "8 added successfully\n",
            "There are 3 attendees in the meeting\n"
          ]
        }
      ]
    },
    {
      "cell_type": "markdown",
      "source": [
        "Agrega tres empleados a una reunión:\n",
        "\n",
        "* Crea una instancia m1 de Meeting y agrega cada una de las instancias de empleado e1, e2 y e3\n",
        "\n",
        "Imprime el tamaño de la instancia m1"
      ],
      "metadata": {
        "id": "MVKeqNe2xfGN"
      }
    },
    {
      "cell_type": "code",
      "source": [
        "\n",
        "meeting = Meeting()\n",
        "\n",
        "e1 = Employee()\n",
        "e2 = Admin()\n",
        "e3 = Manager()\n",
        "\n",
        "meeting + e1\n",
        "meeting + e2\n",
        "meeting + e3\n",
        "\n",
        "print(f\"There are {len(meeting)} attendees in the meeting\")\n"
      ],
      "metadata": {
        "colab": {
          "base_uri": "https://localhost:8080/"
        },
        "id": "nJ9zLntZvX6d",
        "outputId": "e368d006-0e37-4146-ef5e-579a73efc912"
      },
      "execution_count": 29,
      "outputs": [
        {
          "output_type": "stream",
          "name": "stdout",
          "text": [
            "9 added successfully\n",
            "10 added successfully\n",
            "11 added successfully\n",
            "There are 3 attendees in the meeting\n"
          ]
        }
      ]
    },
    {
      "cell_type": "markdown",
      "source": [
        "Implementa el siguiente código para crear una clase AbstractEmployee.\n",
        "\n",
        "Modifica la clase Employee para que herede de AbstractEmployee e implementa la funcionalidad del método say_id().\n",
        "\n",
        "from abc import ABC, abstractmethod\n",
        "\n",
        "class AbstractEmployee(ABC):\n",
        "   new_id = 1\n",
        "   def __init__(self):\n",
        "   AbstractEmployee.new_id += 1\n",
        "\n",
        "\n",
        "@abstractmethod\n",
        "\n",
        "def say_id(self):\n",
        "\n",
        " pass"
      ],
      "metadata": {
        "id": "nRV3qLP4xhnl"
      }
    },
    {
      "cell_type": "markdown",
      "source": [
        "En la clase Employee, agrega una variable privada self._company en el método constructor, y asígnale como valor el nombre de la empresa (nombre de tu preferencia).\n",
        "\n",
        "Imprime el valor retornado por la función dir() al pasar una instancia de Employee como argumento"
      ],
      "metadata": {
        "id": "22Sc3UxmxqC1"
      }
    },
    {
      "cell_type": "code",
      "source": [
        "\n",
        "\n",
        "\n",
        "from abc import ABC, abstractmethod\n",
        "\n",
        "class AbstractEmployee(ABC):\n",
        "    new_id = 1\n",
        "\n",
        "    def __init__(self):\n",
        "        AbstractEmployee.new_id += 1\n",
        "\n",
        "    @abstractmethod\n",
        "    def say_id(self):\n",
        "        pass\n",
        "\n",
        "class Employee(AbstractEmployee):\n",
        "    def say_id(self):\n",
        "        print(\"My id is\", self.new_id)\n",
        "\n",
        "\n",
        "e1 = Employee()\n",
        "\n",
        "\n",
        "e1.say_id()\n"
      ],
      "metadata": {
        "colab": {
          "base_uri": "https://localhost:8080/"
        },
        "id": "lyajKYwZva81",
        "outputId": "130efffa-d3dd-4594-90fa-4c2aa4de3618"
      },
      "execution_count": 30,
      "outputs": [
        {
          "output_type": "stream",
          "name": "stdout",
          "text": [
            "My id is 2\n"
          ]
        }
      ]
    },
    {
      "cell_type": "markdown",
      "source": [
        "Usando getter, setter y la convención de nombres de raya al piso sencilla, los empleados de la compañía ahora serán capaces de usar sus nombres.\n",
        "\n",
        "Agrega el atributo_name a la clase Employee. Coloca como valor default del atributo el valor None.\n",
        "\n",
        "Define el getter get_name() que retorne el valor del atributo de clase Name.\n",
        "\n",
        "Define el setter set_name() que modifique el valor del atributo de clase Name.\n",
        "\n",
        "* Define el deleter del_name() que elimine el atributo de clase Name."
      ],
      "metadata": {
        "id": "eqXvEunDxt8t"
      }
    },
    {
      "cell_type": "code",
      "source": [
        "\n",
        "\n",
        "class Employee:\n",
        "  new_id = 1\n",
        "\n",
        "  def __init__(self):\n",
        "    self.new_id += 1\n",
        "    self._company = \"MyCompany\"\n",
        "\n",
        "  def say_id(self):\n",
        "    print(\"My id is\", self.new_id)\n",
        "\n",
        "e1 = Employee()\n",
        "\n",
        "e1.say_id()\n",
        "\n",
        "\n",
        "print(dir(e1))\n"
      ],
      "metadata": {
        "colab": {
          "base_uri": "https://localhost:8080/"
        },
        "id": "96LWrs2XvqF1",
        "outputId": "15207b83-c097-4c58-de61-6ee17666e9de"
      },
      "execution_count": 31,
      "outputs": [
        {
          "output_type": "stream",
          "name": "stdout",
          "text": [
            "My id is 2\n",
            "['__class__', '__delattr__', '__dict__', '__dir__', '__doc__', '__eq__', '__format__', '__ge__', '__getattribute__', '__gt__', '__hash__', '__init__', '__init_subclass__', '__le__', '__lt__', '__module__', '__ne__', '__new__', '__reduce__', '__reduce_ex__', '__repr__', '__setattr__', '__sizeof__', '__str__', '__subclasshook__', '__weakref__', '_company', 'new_id', 'say_id']\n"
          ]
        }
      ]
    },
    {
      "cell_type": "markdown",
      "source": [
        "Usando getter, setter y la convención de nombres de raya al piso sencilla, los empleados de la compañía ahora serán capaces de usar sus nombres.\n",
        "\n",
        "Agrega el atributo_name a la clase Employee. Coloca como valor default del atributo el valor None.\n",
        "\n",
        "Define el getter get_name() que retorne el valor del atributo de clase Name.\n",
        "\n",
        "Define el setter set_name() que modifique el valor del atributo de clase Name.\n",
        "\n",
        "* Define el deleter del_name() que elimine el atributo de clase Name."
      ],
      "metadata": {
        "id": "rD1-Vz5lwsxO"
      }
    },
    {
      "cell_type": "code",
      "source": [
        "\n",
        "\n",
        "class Employee:\n",
        "  new_id = 1\n",
        "\n",
        "  def __init__(self):\n",
        "    self.new_id += 1\n",
        "    self._company = \"MyCompany\"\n",
        "    self._name = None\n",
        "\n",
        "  def say_id(self):\n",
        "    print(\"My id is\", self.new_id)\n",
        "\n",
        "  def get_name(self):\n",
        "    return self._name\n",
        "\n",
        "  def set_name(self, name):\n",
        "    self._name = name\n",
        "\n",
        "\n",
        "e1 = Employee()\n",
        "\n",
        "e1.say_id()\n",
        "\n",
        "e1.set_name(\"John Doe\")\n",
        "\n",
        "\n",
        "print(e1.get_name())\n"
      ],
      "metadata": {
        "colab": {
          "base_uri": "https://localhost:8080/"
        },
        "id": "mhjpLjRovySV",
        "outputId": "1a810688-d082-4ed5-bc17-11835a080d14"
      },
      "execution_count": 32,
      "outputs": [
        {
          "output_type": "stream",
          "name": "stdout",
          "text": [
            "My id is 2\n",
            "John Doe\n"
          ]
        }
      ]
    },
    {
      "cell_type": "markdown",
      "source": [
        "Crear una clase Robot que se identifique con un código, un alias, creador, fecha de creación y funcionalidades básicas. Agrega los métodos con los cuales se ejecutan las funciones de su interés.\n",
        "\n",
        "* Crear una mascota con atributos y métodos relacionados."
      ],
      "metadata": {
        "id": "ZLytRsVtwrNO"
      }
    },
    {
      "cell_type": "code",
      "source": [
        "\n",
        "class Robot:\n",
        "    def __init__(self, code, alias, creator, creation_date):\n",
        "        self.code = code\n",
        "        self.alias = alias\n",
        "        self.creator = creator\n",
        "        self.creation_date = creation_date\n",
        "\n",
        "    def identify(self):\n",
        "        print(f\"Robot code: {self.code}\")\n",
        "        print(f\"Robot alias: {self.alias}\")\n",
        "        print(f\"Robot creator: {self.creator}\")\n",
        "        print(f\"Robot creation date: {self.creation_date}\")\n",
        "\n",
        "    def move_forward(self):\n",
        "        print(f\"{self.alias} is moving forward.\")\n",
        "\n",
        "    def move_backward(self):\n",
        "        print(f\"{self.alias} is moving backward.\")\n",
        "\n",
        "    def turn_left(self):\n",
        "        print(f\"{self.alias} is turning left.\")\n",
        "\n",
        "    def turn_right(self):\n",
        "        print(f\"{self.alias} is turning right.\")\n",
        "\n",
        "    def speak(self, message):\n",
        "        print(f\"{self.alias} says: {message}\")\n",
        "\n",
        "\n",
        "class Pet:\n",
        "    def __init__(self, name, species, age):\n",
        "        self.name = name\n",
        "        self.species = species\n",
        "        self.age = age\n",
        "\n",
        "    def make_sound(self):\n",
        "        if self.species == \"dog\":\n",
        "            print(f\"{self.name} barks.\")\n",
        "        elif self.species == \"cat\":\n",
        "            print(f\"{self.name} meows.\")\n",
        "        else:\n",
        "            print(f\"{self.name} makes a sound.\")\n",
        "\n",
        "    def play(self):\n",
        "        print(f\"{self.name} is playing.\")\n",
        "\n",
        "    def sleep(self):\n",
        "        print(f\"{self.name} is sleeping.\")\n",
        "\n",
        "\n",
        "robot = Robot(\"RB-001\", \"Astro\", \"Dr. Emmett Brown\", \"1985-07-05\")\n",
        "\n",
        "\n",
        "robot.identify()\n",
        "robot.move_forward()\n",
        "robot.speak(\"Hello, world!\")\n",
        "\n",
        "\n",
        "pet = Pet(\"Luna\", \"dog\", 3)\n",
        "\n",
        "pet.make_sound()\n",
        "pet.play()\n",
        "pet.sleep()\n"
      ],
      "metadata": {
        "colab": {
          "base_uri": "https://localhost:8080/"
        },
        "id": "NYtuEWiKv5uO",
        "outputId": "f5a21966-8d43-4f9e-fb68-d942269dba63"
      },
      "execution_count": 33,
      "outputs": [
        {
          "output_type": "stream",
          "name": "stdout",
          "text": [
            "Robot code: RB-001\n",
            "Robot alias: Astro\n",
            "Robot creator: Dr. Emmett Brown\n",
            "Robot creation date: 1985-07-05\n",
            "Astro is moving forward.\n",
            "Astro says: Hello, world!\n",
            "Luna barks.\n",
            "Luna is playing.\n",
            "Luna is sleeping.\n"
          ]
        }
      ]
    }
  ]
}